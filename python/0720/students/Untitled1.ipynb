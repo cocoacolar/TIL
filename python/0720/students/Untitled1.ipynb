{
 "cells": [
  {
   "cell_type": "code",
   "execution_count": 5,
   "id": "7667e67e",
   "metadata": {},
   "outputs": [
    {
     "name": "stdout",
     "output_type": "stream",
     "text": [
      "[1, 2, 3, 4, 5, 6, 7, 8, 9, 10, 11, 12, 13, 14, 15, 16, 17, 18, 19, 20, 21, 22, 23, 24, 25, 26, 27, 28, 29, 30, 31, 32, 33, 34, 35, 36, 37, 38, 39, 40, 41, 42, 43, 44, 45, 46, 47, 48, 49, 50]\n",
      "[1, 3, 5, 7, 9, 11, 13, 15, 17, 19, 21, 23, 25, 27, 29, 31, 33, 35, 37, 39, 41, 43, 45, 47, 49]\n"
     ]
    }
   ],
   "source": [
    "list_a = list(range(1, 51))\n",
    "print(list_a)\n",
    "list_a = list_a[0:50:2]\n",
    "print(list_a)"
   ]
  },
  {
   "cell_type": "code",
   "execution_count": 9,
   "id": "a321afde",
   "metadata": {},
   "outputs": [
    {
     "data": {
      "text/plain": [
       "dict"
      ]
     },
     "execution_count": 9,
     "metadata": {},
     "output_type": "execute_result"
    }
   ],
   "source": [
    "seoul_4 = {\n",
    "'권오민': '모름', '권우성': 28, '김민채': '모름', '김윤하': 28, '김재연': '모름', '김태균': 27, '김현규': 30, '김현석': 27,\n",
    "'노태현': 27, '서우림': '모름', '안채현':'모름', '양원동': '모름', '우윤석': 28, '위연주': 27, '유창준': 27, '윤소라': '20대후반',\n",
    "'윤혜구':'모름', '윤홍림': '나이 여러개', '이민형': 27, '이재경': 30, '이현우': '모름', '이효준': 28, '장보일': 30, '정언용': 27, '정지웅': 27, '조성한': 29\n",
    "}\n",
    "type(seoul_4)"
   ]
  },
  {
   "cell_type": "code",
   "execution_count": 11,
   "id": "fb5908a6",
   "metadata": {},
   "outputs": [
    {
     "name": "stdout",
     "output_type": "stream",
     "text": [
      "*****\n",
      "*****\n",
      "*****\n",
      "*****\n",
      "*****\n",
      "*****\n",
      "*****\n",
      "*****\n",
      "*****\n"
     ]
    }
   ],
   "source": [
    "n = 5\n",
    "m = 9\n",
    "nemo = '*' * 5\n",
    "for i in range(1, m+1):\n",
    "    print(nemo)"
   ]
  },
  {
   "cell_type": "code",
   "execution_count": 12,
   "id": "04cc0b69",
   "metadata": {},
   "outputs": [
    {
     "name": "stdout",
     "output_type": "stream",
     "text": [
      "입실가능\n"
     ]
    }
   ],
   "source": [
    "temp = 36.5\n",
    "\n",
    "print('입실불가') if temp >= 37.5 else print('입실가능')"
   ]
  },
  {
   "cell_type": "code",
   "execution_count": 14,
   "id": "b1ee6724",
   "metadata": {},
   "outputs": [
    {
     "name": "stdout",
     "output_type": "stream",
     "text": [
      "87.75\n"
     ]
    }
   ],
   "source": [
    "scores = [80, 89, 99, 83]\n",
    "sum = 0\n",
    "for i in range(len(scores)):\n",
    "    sum += scores[i]\n",
    "print(sum/len(scores))\n"
   ]
  },
  {
   "cell_type": "code",
   "execution_count": null,
   "id": "b252ca09",
   "metadata": {},
   "outputs": [],
   "source": []
  }
 ],
 "metadata": {
  "kernelspec": {
   "display_name": "Python 3 (ipykernel)",
   "language": "python",
   "name": "python3"
  },
  "language_info": {
   "codemirror_mode": {
    "name": "ipython",
    "version": 3
   },
   "file_extension": ".py",
   "mimetype": "text/x-python",
   "name": "python",
   "nbconvert_exporter": "python",
   "pygments_lexer": "ipython3",
   "version": "3.9.6"
  },
  "toc": {
   "base_numbering": 1,
   "nav_menu": {},
   "number_sections": true,
   "sideBar": true,
   "skip_h1_title": false,
   "title_cell": "Table of Contents",
   "title_sidebar": "Contents",
   "toc_cell": false,
   "toc_position": {},
   "toc_section_display": true,
   "toc_window_display": false
  }
 },
 "nbformat": 4,
 "nbformat_minor": 5
}
